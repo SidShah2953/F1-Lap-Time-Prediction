{
 "cells": [
  {
   "cell_type": "code",
   "execution_count": 1,
   "metadata": {},
   "outputs": [
    {
     "name": "stderr",
     "output_type": "stream",
     "text": [
      "req         WARNING \tDEFAULT CACHE ENABLED! (114.93 MB) /Users/sidshah/Library/Caches/fastf1\n",
      "core           INFO \tLoading data for Monaco Grand Prix - Race [v3.4.4]\n",
      "req            INFO \tUsing cached data for session_info\n",
      "req            INFO \tUsing cached data for driver_info\n",
      "req            INFO \tUsing cached data for session_status_data\n",
      "req            INFO \tUsing cached data for lap_count\n",
      "req            INFO \tUsing cached data for track_status_data\n",
      "req            INFO \tUsing cached data for _extended_timing_data\n",
      "req            INFO \tUsing cached data for timing_app_data\n",
      "core           INFO \tProcessing timing data...\n",
      "req            INFO \tUsing cached data for car_data\n",
      "req            INFO \tUsing cached data for position_data\n",
      "req            INFO \tUsing cached data for weather_data\n",
      "req            INFO \tUsing cached data for race_control_messages\n",
      "core           INFO \tFinished loading data for 20 drivers: ['1', '14', '31', '44', '63', '16', '10', '55', '4', '81', '77', '21', '24', '23', '22', '11', '27', '2', '20', '18']\n",
      "core        WARNING \tFailed to preserve data type for column 'X' while merging telemetry.\n",
      "core        WARNING \tFailed to preserve data type for column 'Y' while merging telemetry.\n",
      "core        WARNING \tFailed to preserve data type for column 'Z' while merging telemetry.\n"
     ]
    },
    {
     "name": "stdout",
     "output_type": "stream",
     "text": [
      "{'track_length': 3279.9069994637202, 'max_elevation': 89.6, 'min_elevation': 47.5, 'total_elevation_change': 42.099999999999994, 'elevation_variance': 13.167709752203661, 'total_curvature': 4392.485327942763, 'max_curvature': 6.282884434388352, 'curvature_variance': 0.4674223337403651}\n"
     ]
    }
   ],
   "source": [
    "from dataCollection.trackGeometry import TrackGeometryAnalyzer\n",
    "\n",
    "TGA = TrackGeometryAnalyzer(2023, 'Monaco', 'Race')\n",
    "track_geometry = TGA.calculate_track_geometry()\n",
    "print(track_geometry)"
   ]
  },
  {
   "cell_type": "code",
   "execution_count": null,
   "metadata": {},
   "outputs": [],
   "source": []
  }
 ],
 "metadata": {
  "kernelspec": {
   "display_name": "f1",
   "language": "python",
   "name": "python3"
  },
  "language_info": {
   "codemirror_mode": {
    "name": "ipython",
    "version": 3
   },
   "file_extension": ".py",
   "mimetype": "text/x-python",
   "name": "python",
   "nbconvert_exporter": "python",
   "pygments_lexer": "ipython3",
   "version": "3.12.2"
  }
 },
 "nbformat": 4,
 "nbformat_minor": 2
}
